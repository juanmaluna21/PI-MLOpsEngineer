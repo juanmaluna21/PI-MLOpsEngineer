{
 "cells": [
  {
   "cell_type": "code",
   "execution_count": 1,
   "metadata": {},
   "outputs": [],
   "source": [
    "import pandas as pd"
   ]
  },
  {
   "attachments": {},
   "cell_type": "markdown",
   "metadata": {},
   "source": [
    "`Rating datasets`"
   ]
  },
  {
   "cell_type": "code",
   "execution_count": null,
   "metadata": {},
   "outputs": [],
   "source": [
    "#Import datasets of ratings\n",
    "df_1= pd.read_csv(r'ratings/1.csv')\n",
    "df_2= pd.read_csv(r'ratings/2.csv')\n",
    "df_3= pd.read_csv(r'ratings/3.csv')\n",
    "df_4= pd.read_csv(r'ratings/4.csv')\n",
    "df_5= pd.read_csv(r'ratings/5.csv')\n",
    "df_6= pd.read_csv(r'ratings/6.csv')\n",
    "df_7= pd.read_csv(r'ratings/7.csv')\n",
    "df_8= pd.read_csv(r'ratings/8.csv')"
   ]
  },
  {
   "cell_type": "code",
   "execution_count": 23,
   "metadata": {},
   "outputs": [],
   "source": [
    "def get_platform(movie_id): #Addition of a new column with their correspondant platforms\n",
    "    if movie_id.startswith('ns'):\n",
    "        return 'netflix'\n",
    "    elif movie_id.startswith('as'):\n",
    "        return 'amazon'\n",
    "    elif movie_id.startswith('hs'):\n",
    "        return 'hulu'\n",
    "    elif movie_id.startswith('ds'):\n",
    "        return 'disney'\n",
    "    else:\n",
    "        return 'no information'\n",
    "\n",
    "#Transformation of \"ratings\"\n",
    "def transformation2(df1,df2,df3,df4,df5,df6,df7,df8):\n",
    "    df_9= pd.concat([df1,df2,df3,df4,df5,df6,df7,df8], axis=0) #concatenate all the datasets\n",
    "    df_9['timestamp'] = pd.to_datetime(df_9['timestamp'], unit='s').dt.year #change date format\n",
    "    df_9= df_9.groupby(['movieId','timestamp'])['rating'].mean().round(2).reset_index() #group by movieId and timestamp\n",
    "    df_9= df_9.rename(columns={'timestamp':'year'}) #rename column timestamp by year to make easier filters on the API\n",
    "    df_9['platform'] = df_9['movieId'].apply(get_platform) #creation of new column \"platform\" that indicates where each register belongs\n",
    "    df_9= df_9.set_index('movieId') #set movieId as index\n",
    "    return df_9"
   ]
  },
  {
   "cell_type": "code",
   "execution_count": null,
   "metadata": {},
   "outputs": [],
   "source": [
    "#Transformation of datasets\n",
    "df_ratings= transformation2(df_1, df_2, df_3, df_4, df_5, df_6, df_7,df_8)"
   ]
  },
  {
   "cell_type": "code",
   "execution_count": null,
   "metadata": {},
   "outputs": [],
   "source": [
    "#Export ratings datasets concatenated and grouped by year\n",
    "df_ratings.to_csv('dataset_ratings.csv')"
   ]
  },
  {
   "cell_type": "code",
   "execution_count": 2,
   "metadata": {},
   "outputs": [],
   "source": [
    "#Export ratings dataset as \"dataset_ratings.csv\" \n",
    "df_ratings= pd.read_csv(r'dataset_ratings.csv',index_col='movieId')"
   ]
  },
  {
   "cell_type": "code",
   "execution_count": 16,
   "metadata": {},
   "outputs": [
    {
     "data": {
      "text/plain": [
       "(505909, 3)"
      ]
     },
     "execution_count": 16,
     "metadata": {},
     "output_type": "execute_result"
    }
   ],
   "source": [
    "df_ratings.shape"
   ]
  },
  {
   "attachments": {},
   "cell_type": "markdown",
   "metadata": {},
   "source": [
    "`Plataforms datasets`"
   ]
  },
  {
   "cell_type": "code",
   "execution_count": 3,
   "metadata": {},
   "outputs": [],
   "source": [
    "#Import platform datasets\n",
    "df_amazon= pd.read_csv(r'datasets/amazon_prime_titles.csv')\n",
    "df_disney= pd.read_csv(r'datasets/disney_plus_titles.csv')\n",
    "df_hulu= pd.read_csv(r'datasets/hulu_titles.csv')\n",
    "df_netflix= pd.read_csv(r'datasets/netflix_titles.csv')"
   ]
  },
  {
   "cell_type": "code",
   "execution_count": 4,
   "metadata": {},
   "outputs": [],
   "source": [
    "#Define a transformation funtion with all the necessary changes\n",
    "def transformation(df, word, platform):\n",
    "    df['show_id']= word + df['show_id'] #Addtion of the extra word\n",
    "    df['rating'].fillna('G', inplace= True) #Fill of None elements with the word \"G\"\n",
    "    df['date_added']= pd.to_datetime(df['date_added']) #Type change of \"date_added\" column from Object to DateTime\n",
    "    df= df.applymap(lambda s: s.lower() if type(s)== str else s) #Lower case all the Dataframe elements\n",
    "    df[['duration_int', 'duration_type']]= df['duration'].str.split(' ', expand= True) #Split of \"duration\" columns into \"duration_int\" and \"duration_type\"\n",
    "    df.insert(loc= df.columns.get_loc('duration') + 1, column='duration_int',value=df.pop('duration_int')) #Relocation of \"duration_int\" column\n",
    "    df.insert(loc= df.columns.get_loc('duration') + 2, column='duration_type',value=df.pop('duration_type')) #Relocation of \"duration_type\" column\n",
    "    df['duration_type']=df['duration_type'].str.replace('seasons','season') #Standarize \"seasons\" and \"season\" into \"season\"\n",
    "    df= df.drop(columns=['duration']) #Drop of duration column\n",
    "    df['platform']= platform #Column added to filter\n",
    "    return df\n"
   ]
  },
  {
   "cell_type": "code",
   "execution_count": 5,
   "metadata": {},
   "outputs": [],
   "source": [
    "#Transformation of datasets\n",
    "df_amazon= transformation(df_amazon,'a','amazon')\n",
    "df_disney= transformation(df_disney,'d','disney')\n",
    "df_hulu= transformation(df_hulu,'h','hulu')\n",
    "df_netflix= transformation(df_netflix,'n','netflix')"
   ]
  },
  {
   "cell_type": "code",
   "execution_count": 6,
   "metadata": {},
   "outputs": [],
   "source": [
    "#Contatenate platform datasets\n",
    "df_platform= pd.concat([df_amazon,df_disney,df_hulu,df_netflix], axis=0)"
   ]
  },
  {
   "attachments": {},
   "cell_type": "markdown",
   "metadata": {},
   "source": [
    "`QUERIES`"
   ]
  },
  {
   "cell_type": "code",
   "execution_count": 7,
   "metadata": {},
   "outputs": [],
   "source": [
    "#1) max duration movie\n",
    "def get_max_duration(year, platform, duration_type):\n",
    "    max_duration = df_platform[(df_platform['platform']== platform) & (df_platform['release_year']== year) & (df_platform['duration_type']== duration_type) & (df_platform['type']=='movie')].sort_values(by= ['duration_int']).iloc[-1]\n",
    "    return {'movie':max_duration['title']}\n",
    "\n",
    "#2) Number of movies per platform with a rating > XX\n",
    "def get_score_count(platform, scored, year):\n",
    "    return {'platform':platform,\n",
    "            'number':len(df_ratings[(df_ratings['year']== year) & (df_ratings['platform']== platform) & (df_ratings['rating']> scored)]),\n",
    "            'year':year,\n",
    "            'score':scored}\n",
    "\n",
    "#3) Number of movies per platform\n",
    "def get_count_platform(platform):\n",
    "    return {'platform':platform, 'movies':len(df_platform[df_platform['platform']== platform])}\n",
    "\n",
    "#4) Actor who appears the most frequently by platform and year\n",
    "def get_actor(platform, year):\n",
    "    by_actor = df_platform.loc[(df_platform['platform'] == platform) & (df_platform['release_year'] == year), 'cast']\n",
    "    all_actors = [actor.strip() for cast_list in by_actor.str.split(',') if isinstance(cast_list, list) for actor in cast_list]\n",
    "    # Obtiene el actor más común y su frecuencia\n",
    "    most_common_actor = max(set(all_actors), key = all_actors.count)\n",
    "    frequency = all_actors.count(most_common_actor)\n",
    "    return {'platform':platform, \"year\":year,'actor':most_common_actor,'times':frequency}\n",
    "\n",
    "#5) Number of content/products (everything available on streaming) that was published per country and year\n",
    "def prod_per_county(type,country,year):\n",
    "    return {'country':country, 'year':year, 'movies':len(df_platform[(df_platform['type']==type) & (df_platform['country']==country) & (df_platform['release_year']== year)])}\n",
    "\n",
    "#6) Total number of content/products (everything available on streaming, series, documentaries, movies, etc.)\n",
    "#according to the given audience rating (for which audience the movie was classified).\n",
    "def get_contents(rating):\n",
    "    return {'rating':rating,'content':len(df_platform[(df_platform['rating']==rating)])}"
   ]
  },
  {
   "cell_type": "code",
   "execution_count": 8,
   "metadata": {},
   "outputs": [
    {
     "name": "stdout",
     "output_type": "stream",
     "text": [
      "{'movie': 'inside out'}\n",
      "{'platform': 'hulu', 'number': 3070, 'year': 2002, 'score': 2.5}\n",
      "{'platform': 'disney', 'movies': 1450}\n",
      "{'platform': 'netflix', 'year': 2019, 'actor': 'taapsee pannu, vinodhini, parvathi t, ramya subramanian, sanchana natarajan, anish kuruvilla, david solomon raja'}\n",
      "{'country': 'india', 'year': 2018, 'movies': 112}\n",
      "{'rating': 'g', 'content': 1269}\n"
     ]
    }
   ],
   "source": [
    "print(get_max_duration(2015,'disney','min')) #1\n",
    "print(get_score_count('hulu', 2.5, 2002)) #2\n",
    "print(get_count_platform('disney')) #3\n",
    "print(get_actor('netflix',2019)) #4\n",
    "print(prod_per_county('movie','india',2018)) #5\n",
    "print(get_contents('g')) #6"
   ]
  },
  {
   "cell_type": "code",
   "execution_count": 17,
   "metadata": {},
   "outputs": [],
   "source": [
    "def get_actor(platform, year):\n",
    "    by_actor = df_platform.loc[(df_platform['platform'] == platform) & (df_platform['release_year'] == year), 'cast']\n",
    "    all_actors = [actor.strip() for cast_list in by_actor.str.split(',') if isinstance(cast_list, list) for actor in cast_list]\n",
    "    # Obtiene el actor más común y su frecuencia\n",
    "    most_common_actor = max(set(all_actors), key = all_actors.count)\n",
    "    frequency = all_actors.count(most_common_actor)\n",
    "    return {'platform':platform, \"year\":year,'actor':most_common_actor,'times':frequency}"
   ]
  },
  {
   "cell_type": "code",
   "execution_count": 18,
   "metadata": {},
   "outputs": [
    {
     "name": "stdout",
     "output_type": "stream",
     "text": [
      "{'platform': 'netflix', 'year': 2019, 'actor': 'vincent tong', 'times': 8}\n"
     ]
    }
   ],
   "source": [
    "print(get_actor('netflix',2019)) #4"
   ]
  }
 ],
 "metadata": {
  "kernelspec": {
   "display_name": "base",
   "language": "python",
   "name": "python3"
  },
  "language_info": {
   "codemirror_mode": {
    "name": "ipython",
    "version": 3
   },
   "file_extension": ".py",
   "mimetype": "text/x-python",
   "name": "python",
   "nbconvert_exporter": "python",
   "pygments_lexer": "ipython3",
   "version": "3.9.13"
  },
  "orig_nbformat": 4
 },
 "nbformat": 4,
 "nbformat_minor": 2
}
